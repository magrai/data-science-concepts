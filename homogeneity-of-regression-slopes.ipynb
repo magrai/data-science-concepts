{
 "cells": [
  {
   "cell_type": "markdown",
   "metadata": {},
   "source": [
    "# Homogeneity of regression slopes"
   ]
  },
  {
   "cell_type": "markdown",
   "metadata": {},
   "source": [
    "## Packages"
   ]
  },
  {
   "cell_type": "code",
   "execution_count": 23,
   "metadata": {
    "scrolled": true
   },
   "outputs": [],
   "source": [
    "import os\n",
    "import pandas as pd\n",
    "import numpy as np\n",
    "import seaborn as sns"
   ]
  },
  {
   "cell_type": "markdown",
   "metadata": {},
   "source": [
    "## Preparatory settings"
   ]
  },
  {
   "cell_type": "code",
   "execution_count": 9,
   "metadata": {},
   "outputs": [
    {
     "name": "stdout",
     "output_type": "stream",
     "text": [
      "Y:\\literature_resources\\Field_2012_DSUR\\data\n"
     ]
    }
   ],
   "source": [
    "path_root = os.getcwd()\n",
    "path_root = os.path.dirname(path_root)\n",
    "path_root = os.path.dirname(path_root)\n",
    "path_data = os.path.join(path_root, \"literature_resources\", \"Field_2012_DSUR\", \"data\")\n",
    "print(path_data)"
   ]
  },
  {
   "cell_type": "code",
   "execution_count": 10,
   "metadata": {},
   "outputs": [],
   "source": [
    "file_name = \"ViagraCovariate.dat\"\n",
    "file_path = os.path.join(path_data, file_name)"
   ]
  },
  {
   "cell_type": "code",
   "execution_count": 11,
   "metadata": {},
   "outputs": [
    {
     "name": "stdout",
     "output_type": "stream",
     "text": [
      "Y:\\literature_resources\\Field_2012_DSUR\\data\\ViagraCovariate.dat\n"
     ]
    }
   ],
   "source": [
    "print(file_path)"
   ]
  },
  {
   "cell_type": "markdown",
   "metadata": {},
   "source": [
    "## Load data"
   ]
  },
  {
   "cell_type": "code",
   "execution_count": 13,
   "metadata": {},
   "outputs": [
    {
     "name": "stdout",
     "output_type": "stream",
     "text": [
      "    dose  libido  partnerLibido\n",
      "0      1       3              4\n",
      "1      1       2              1\n",
      "2      1       5              5\n",
      "3      1       2              1\n",
      "4      1       2              2\n",
      "5      1       2              2\n",
      "6      1       7              7\n",
      "7      1       2              4\n",
      "8      1       4              5\n",
      "9      2       7              5\n",
      "10     2       5              3\n",
      "11     2       3              1\n",
      "12     2       4              2\n",
      "13     2       4              2\n",
      "14     2       7              6\n",
      "15     2       5              4\n",
      "16     2       4              2\n",
      "17     3       9              1\n",
      "18     3       2              3\n",
      "19     3       6              5\n",
      "20     3       3              4\n",
      "21     3       4              3\n",
      "22     3       4              3\n",
      "23     3       4              2\n",
      "24     3       6              0\n",
      "25     3       4              1\n",
      "26     3       6              3\n",
      "27     3       2              0\n",
      "28     3       8              1\n",
      "29     3       5              0\n"
     ]
    }
   ],
   "source": [
    "data = pd.read_table(file_path)\n",
    "print(data)"
   ]
  },
  {
   "cell_type": "markdown",
   "metadata": {},
   "source": [
    "## Visualize regression slopes"
   ]
  },
  {
   "cell_type": "code",
   "execution_count": 44,
   "metadata": {},
   "outputs": [
    {
     "data": {
      "text/plain": [
       "<seaborn.axisgrid.FacetGrid at 0x21e0794b908>"
      ]
     },
     "execution_count": 44,
     "metadata": {},
     "output_type": "execute_result"
    },
    {
     "data": {
      "image/png": "[encoded data removed]",
      "text/plain": [
       "<Figure size 402.375x360 with 1 Axes>"
      ]
     },
     "metadata": {
      "needs_background": "light"
     },
     "output_type": "display_data"
    }
   ],
   "source": [
    "sns.lmplot(x=\"partnerLibido\", y=\"libido\", data=data, hue=\"dose\")"
   ]
  },
  {
   "cell_type": "code",
   "execution_count": null,
   "metadata": {},
   "outputs": [],
   "source": []
  }
 ],
 "metadata": {
  "kernelspec": {
   "display_name": "Python 3",
   "language": "python",
   "name": "python3"
  },
  "language_info": {
   "codemirror_mode": {
    "name": "ipython",
    "version": 3
   },
   "file_extension": ".py",
   "mimetype": "text/x-python",
   "name": "python",
   "nbconvert_exporter": "python",
   "pygments_lexer": "ipython3",
   "version": "3.7.5"
  }
 },
 "nbformat": 4,
 "nbformat_minor": 4
}
