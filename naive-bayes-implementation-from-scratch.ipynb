{
 "cells": [
  {
   "cell_type": "markdown",
   "metadata": {},
   "source": [
    "# Naive Bayes implementation from scratch"
   ]
  },
  {
   "cell_type": "markdown",
   "metadata": {},
   "source": [
    "**Context**\n",
    "* Two political parties' candidates:\n",
    "    * Jill Stein of the Green Party (J)\n",
    "    * Gary Johnson of the Libertarian Party (G)\n",
    "* We have the probabilities of these candidates saying the words \"freedom\", \"immigration\" and \"environment\" (F, I, E)\n",
    "\n",
    "**Objective**\n",
    "* Find the probabilities of the candidates saying the words \"freedom\" and \"immigration\" \n",
    "    * P(J|F,I)\n",
    "    * P(G|F,I)"
   ]
  },
  {
   "cell_type": "markdown",
   "metadata": {},
   "source": [
    "# Data"
   ]
  },
  {
   "cell_type": "markdown",
   "metadata": {},
   "source": [
    "**Probabilities of giving a speech**\n",
    "* P(J) = 0.5\n",
    "* P(G) = 0.5\n",
    "\n",
    "**Probabilities of candidates saying words**\n",
    "* P(F|J) = 0.1\n",
    "* P(I|J) = 0.1\n",
    "* P(E|J) = 0.8\n",
    "\n",
    "* P(F|G) = 0.7\n",
    "* P(I|G) = 0.2\n",
    "* P(E|G) = 0.1"
   ]
  },
  {
   "cell_type": "code",
   "execution_count": 16,
   "metadata": {},
   "outputs": [],
   "source": [
    "# Probabilities of giving a speech\n",
    "p_j = 0.5\n",
    "p_g = 0.5\n",
    "\n",
    "# Probabilities of candidates saying words\n",
    "p_f_j = 0.1\n",
    "p_i_j = 0.1\n",
    "p_e_j = 0.8\n",
    "\n",
    "p_f_g = 0.7\n",
    "p_i_g = 0.2\n",
    "p_e_g = 0.1"
   ]
  },
  {
   "cell_type": "markdown",
   "metadata": {},
   "source": [
    "# Calculation of probabilities"
   ]
  },
  {
   "cell_type": "markdown",
   "metadata": {},
   "source": [
    "The probabilities P(J|F,I) and P(G|F,I) can be computes using the Bayes theorm as follows:\n",
    "\n",
    "* P(J|F,I) = P(F,I|J) * P(J) / P(F,I)\n",
    "* P(G|F,I) = P(F,I|G) * P(G) / P(F,I)\n",
    "\n",
    "and\n",
    "\n",
    "* P(F,I|J) = P(F|J) * P(I|J)\n",
    "* P(F,I|G) = P(F|G) * P(I|G)\n",
    "\n",
    "and\n",
    "\n",
    "* P(F,I) = P(J) * P(F,I|J) + P(G) * P(F,I|G)"
   ]
  },
  {
   "cell_type": "code",
   "execution_count": 26,
   "metadata": {},
   "outputs": [
    {
     "name": "stdout",
     "output_type": "stream",
     "text": [
      "Probability of Jill Stein giving a speed saying the words: 0.005000000000000001\n",
      "Probability of Gary Johnson giving a speed saying the words: 0.06999999999999999\n"
     ]
    }
   ],
   "source": [
    "# Compute probabilities of saying the words \"freedom\" and \"immigration\"\n",
    "p_j_text = p_j * p_f_j * p_i_j\n",
    "p_g_text = p_g * p_f_g * p_i_g\n",
    "\n",
    "print(\"Probability of Jill Stein giving a speed saying the words: %s\" % p_j_text)\n",
    "print(\"Probability of Gary Johnson giving a speed saying the words: %s\" % p_g_text)"
   ]
  },
  {
   "cell_type": "code",
   "execution_count": 27,
   "metadata": {},
   "outputs": [
    {
     "name": "stdout",
     "output_type": "stream",
     "text": [
      "Probability of words being said: 0.075\n"
     ]
    }
   ],
   "source": [
    "# Compute likelihood of the words beeing being said\n",
    "p_f_i = p_j_text + p_g_text\n",
    "\n",
    "print(\"Probability of words being said: %s\" %p_f_i)"
   ]
  },
  {
   "cell_type": "code",
   "execution_count": 28,
   "metadata": {},
   "outputs": [
    {
     "name": "stdout",
     "output_type": "stream",
     "text": [
      "Probabilitiy of Jill Stein saying the words: 0.06666666666666668\n",
      "Probabilitiy of Gary Johnson saying the words: 0.9333333333333332\n"
     ]
    }
   ],
   "source": [
    "# Compute Probablity of P(J|F,I) und P(G|F,I)\n",
    "p_j_fi = p_j_text / p_f_i\n",
    "p_g_fi = p_g_text / p_f_i\n",
    "\n",
    "print(\"Probabilitiy of Jill Stein saying the words: %s\" % p_j_fi)\n",
    "print(\"Probabilitiy of Gary Johnson saying the words: %s\" % p_g_fi)"
   ]
  },
  {
   "cell_type": "markdown",
   "metadata": {},
   "source": [
    "## Conclusion"
   ]
  },
  {
   "cell_type": "markdown",
   "metadata": {},
   "source": [
    "* There is only a 6.6% chance that Jill Stein of the Green Party uses the words \"freedom\" or \"immigration\"\n",
    "* ... compared to the 93.3% chance for Gary Johnson of the Libertarian party"
   ]
  },
  {
   "cell_type": "code",
   "execution_count": null,
   "metadata": {},
   "outputs": [],
   "source": []
  }
 ],
 "metadata": {
  "kernelspec": {
   "display_name": "Python 3",
   "language": "python",
   "name": "python3"
  },
  "language_info": {
   "codemirror_mode": {
    "name": "ipython",
    "version": 3
   },
   "file_extension": ".py",
   "mimetype": "text/x-python",
   "name": "python",
   "nbconvert_exporter": "python",
   "pygments_lexer": "ipython3",
   "version": "3.7.5"
  }
 },
 "nbformat": 4,
 "nbformat_minor": 4
}
